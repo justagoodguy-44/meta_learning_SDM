{
 "cells": [
  {
   "cell_type": "markdown",
   "metadata": {},
   "source": [
    "# Model Performance"
   ]
  },
  {
   "cell_type": "code",
   "execution_count": 56,
   "metadata": {},
   "outputs": [
    {
     "name": "stdout",
     "output_type": "stream",
     "text": [
      "The autoreload extension is already loaded. To reload it, use:\n",
      "  %reload_ext autoreload\n"
     ]
    }
   ],
   "source": [
    "import pandas as pd\n",
    "import numpy as np\n",
    "from log_helpers import read_log_run, read_training_results\n",
    "from data_helpers import get_region_list, get_dict_from_species_name_to_nb_of_samples, get_species_list\n",
    "\n",
    "from utils import RunType\n",
    "import os\n",
    "import matplotlib.pyplot as plt\n",
    "from scipy.stats import pearsonr\n",
    "\n",
    "%load_ext autoreload\n",
    "%autoreload 2\n",
    "\n"
   ]
  },
  {
   "cell_type": "code",
   "execution_count": 57,
   "metadata": {},
   "outputs": [],
   "source": [
    "region_list = get_region_list()\n",
    "log_root_dir = \"logs\"\n",
    "\n",
    "def get_mean_test_auc_roc(run_type:RunType, logs_base_dir):\n",
    "    df_regions_auc_roc = pd.DataFrame(columns=['auc_roc'])\n",
    "    for region in region_list:\n",
    "        df_region = read_log_run(run_type, region, logs_base_dir)['auc_roc'].to_frame()\n",
    "        df_region_mean = df_region.mean().to_frame().T \n",
    "        df_region_mean.rename(index={0:region}, inplace=True)\n",
    "        df_regions_auc_roc = pd.concat([df_regions_auc_roc, df_region_mean])\n",
    "        \n",
    "    final_mean = df_regions_auc_roc.mean()\n",
    "    df_final_mean = pd.DataFrame([final_mean], columns=['auc_roc'], index=['avg'])\n",
    "    df_regions_auc_roc = pd.concat([df_regions_auc_roc, df_final_mean])\n",
    "    df_regions_auc_roc = df_regions_auc_roc.round(3)\n",
    "    return df_regions_auc_roc\n",
    "\n",
    "\n",
    "def to_latex_table_row_format(data: pd.DataFrame, column_name:str):\n",
    "    latex_row = \"\"\n",
    "    data_column = data[column_name]\n",
    "    for val in data_column:\n",
    "        latex_row = f\"{latex_row} & {val}\"\n",
    "    return latex_row\n",
    "\n",
    "def list_to_latex_table_row_format(data: list):\n",
    "    latex_row = \"\"\n",
    "    for val in data:\n",
    "        latex_row = f\"{latex_row} & {val}\"\n",
    "    return latex_row\n",
    "\n"
   ]
  },
  {
   "cell_type": "markdown",
   "metadata": {},
   "source": [
    "## Single species\n",
    "\n",
    "### Using the standard params"
   ]
  },
  {
   "cell_type": "code",
   "execution_count": 9,
   "metadata": {},
   "outputs": [
    {
     "name": "stdout",
     "output_type": "stream",
     "text": [
      " & 0.689 & 0.706 & 0.685 & 0.743 & 0.795 & 0.797 & 0.736\n"
     ]
    },
    {
     "data": {
      "text/html": [
       "<div>\n",
       "<style scoped>\n",
       "    .dataframe tbody tr th:only-of-type {\n",
       "        vertical-align: middle;\n",
       "    }\n",
       "\n",
       "    .dataframe tbody tr th {\n",
       "        vertical-align: top;\n",
       "    }\n",
       "\n",
       "    .dataframe thead th {\n",
       "        text-align: right;\n",
       "    }\n",
       "</style>\n",
       "<table border=\"1\" class=\"dataframe\">\n",
       "  <thead>\n",
       "    <tr style=\"text-align: right;\">\n",
       "      <th></th>\n",
       "      <th>auc_roc</th>\n",
       "    </tr>\n",
       "  </thead>\n",
       "  <tbody>\n",
       "    <tr>\n",
       "      <th>AWT</th>\n",
       "      <td>0.689</td>\n",
       "    </tr>\n",
       "    <tr>\n",
       "      <th>CAN</th>\n",
       "      <td>0.706</td>\n",
       "    </tr>\n",
       "    <tr>\n",
       "      <th>NSW</th>\n",
       "      <td>0.685</td>\n",
       "    </tr>\n",
       "    <tr>\n",
       "      <th>NZ</th>\n",
       "      <td>0.743</td>\n",
       "    </tr>\n",
       "    <tr>\n",
       "      <th>SA</th>\n",
       "      <td>0.795</td>\n",
       "    </tr>\n",
       "    <tr>\n",
       "      <th>SWI</th>\n",
       "      <td>0.797</td>\n",
       "    </tr>\n",
       "    <tr>\n",
       "      <th>avg</th>\n",
       "      <td>0.736</td>\n",
       "    </tr>\n",
       "  </tbody>\n",
       "</table>\n",
       "</div>"
      ],
      "text/plain": [
       "     auc_roc\n",
       "AWT    0.689\n",
       "CAN    0.706\n",
       "NSW    0.685\n",
       "NZ     0.743\n",
       "SA     0.795\n",
       "SWI    0.797\n",
       "avg    0.736"
      ]
     },
     "execution_count": 9,
     "metadata": {},
     "output_type": "execute_result"
    }
   ],
   "source": [
    "logs_dir_base_params = os.path.join(log_root_dir, \"logs_standard_params\")\n",
    "mean_test_auc_roc = get_mean_test_auc_roc(RunType.SINGLE_SPECIES_MLP, logs_dir_base_params)\n",
    "print(to_latex_table_row_format(mean_test_auc_roc, \"auc_roc\"))\n",
    "mean_test_auc_roc"
   ]
  },
  {
   "cell_type": "markdown",
   "metadata": {},
   "source": [
    "### Using epoch=15 num_layers=2 and width=256 instead of respectively 30, 4, 512"
   ]
  },
  {
   "cell_type": "code",
   "execution_count": 13,
   "metadata": {},
   "outputs": [
    {
     "name": "stdout",
     "output_type": "stream",
     "text": [
      " & 0.727 & 0.717 & 0.709 & 0.749 & 0.8 & 0.837 & 0.757\n"
     ]
    },
    {
     "data": {
      "text/html": [
       "<div>\n",
       "<style scoped>\n",
       "    .dataframe tbody tr th:only-of-type {\n",
       "        vertical-align: middle;\n",
       "    }\n",
       "\n",
       "    .dataframe tbody tr th {\n",
       "        vertical-align: top;\n",
       "    }\n",
       "\n",
       "    .dataframe thead th {\n",
       "        text-align: right;\n",
       "    }\n",
       "</style>\n",
       "<table border=\"1\" class=\"dataframe\">\n",
       "  <thead>\n",
       "    <tr style=\"text-align: right;\">\n",
       "      <th></th>\n",
       "      <th>mean_test_auc_roc</th>\n",
       "    </tr>\n",
       "  </thead>\n",
       "  <tbody>\n",
       "    <tr>\n",
       "      <th>AWT</th>\n",
       "      <td>0.727</td>\n",
       "    </tr>\n",
       "    <tr>\n",
       "      <th>CAN</th>\n",
       "      <td>0.717</td>\n",
       "    </tr>\n",
       "    <tr>\n",
       "      <th>NSW</th>\n",
       "      <td>0.709</td>\n",
       "    </tr>\n",
       "    <tr>\n",
       "      <th>NZ</th>\n",
       "      <td>0.749</td>\n",
       "    </tr>\n",
       "    <tr>\n",
       "      <th>SA</th>\n",
       "      <td>0.800</td>\n",
       "    </tr>\n",
       "    <tr>\n",
       "      <th>SWI</th>\n",
       "      <td>0.837</td>\n",
       "    </tr>\n",
       "    <tr>\n",
       "      <th>avg</th>\n",
       "      <td>0.757</td>\n",
       "    </tr>\n",
       "  </tbody>\n",
       "</table>\n",
       "</div>"
      ],
      "text/plain": [
       "     mean_test_auc_roc\n",
       "AWT              0.727\n",
       "CAN              0.717\n",
       "NSW              0.709\n",
       "NZ               0.749\n",
       "SA               0.800\n",
       "SWI              0.837\n",
       "avg              0.757"
      ]
     },
     "execution_count": 13,
     "metadata": {},
     "output_type": "execute_result"
    }
   ],
   "source": [
    "logs_dir_lower_params = os.path.join(log_root_dir, \"logs_lower_params\")\n",
    "mean_test_auc_roc = get_mean_test_auc_roc(RunType.SINGLE_SPECIES_MLP, logs_dir_lower_params)\n",
    "print(to_latex_table_row_format(mean_test_auc_roc, \"auc_roc\"))\n",
    "mean_test_auc_roc"
   ]
  },
  {
   "cell_type": "markdown",
   "metadata": {},
   "source": [
    "### Optuna params"
   ]
  },
  {
   "cell_type": "markdown",
   "metadata": {},
   "source": [
    "cross-val with train data"
   ]
  },
  {
   "cell_type": "code",
   "execution_count": 42,
   "metadata": {},
   "outputs": [
    {
     "name": "stdout",
     "output_type": "stream",
     "text": [
      " & 0.685 & 0.706 & 0.699 & 0.726 & 0.779 & 0.831 & 0.738\n"
     ]
    },
    {
     "data": {
      "text/html": [
       "<div>\n",
       "<style scoped>\n",
       "    .dataframe tbody tr th:only-of-type {\n",
       "        vertical-align: middle;\n",
       "    }\n",
       "\n",
       "    .dataframe tbody tr th {\n",
       "        vertical-align: top;\n",
       "    }\n",
       "\n",
       "    .dataframe thead th {\n",
       "        text-align: right;\n",
       "    }\n",
       "</style>\n",
       "<table border=\"1\" class=\"dataframe\">\n",
       "  <thead>\n",
       "    <tr style=\"text-align: right;\">\n",
       "      <th></th>\n",
       "      <th>auc_roc</th>\n",
       "    </tr>\n",
       "  </thead>\n",
       "  <tbody>\n",
       "    <tr>\n",
       "      <th>AWT</th>\n",
       "      <td>0.685</td>\n",
       "    </tr>\n",
       "    <tr>\n",
       "      <th>CAN</th>\n",
       "      <td>0.706</td>\n",
       "    </tr>\n",
       "    <tr>\n",
       "      <th>NSW</th>\n",
       "      <td>0.699</td>\n",
       "    </tr>\n",
       "    <tr>\n",
       "      <th>NZ</th>\n",
       "      <td>0.726</td>\n",
       "    </tr>\n",
       "    <tr>\n",
       "      <th>SA</th>\n",
       "      <td>0.779</td>\n",
       "    </tr>\n",
       "    <tr>\n",
       "      <th>SWI</th>\n",
       "      <td>0.831</td>\n",
       "    </tr>\n",
       "    <tr>\n",
       "      <th>avg</th>\n",
       "      <td>0.738</td>\n",
       "    </tr>\n",
       "  </tbody>\n",
       "</table>\n",
       "</div>"
      ],
      "text/plain": [
       "     auc_roc\n",
       "AWT    0.685\n",
       "CAN    0.706\n",
       "NSW    0.699\n",
       "NZ     0.726\n",
       "SA     0.779\n",
       "SWI    0.831\n",
       "avg    0.738"
      ]
     },
     "execution_count": 42,
     "metadata": {},
     "output_type": "execute_result"
    }
   ],
   "source": [
    "logs_dir_optuna_params = os.path.join(log_root_dir, \"logs_optuna_params_train_val\")\n",
    "mean_test_auc_roc = get_mean_test_auc_roc(RunType.SINGLE_SPECIES_MLP, logs_dir_optuna_params)\n",
    "print(to_latex_table_row_format(mean_test_auc_roc, \"auc_roc\"))\n",
    "mean_test_auc_roc"
   ]
  },
  {
   "cell_type": "markdown",
   "metadata": {},
   "source": [
    "cross-val with test data, no blocked cv"
   ]
  },
  {
   "cell_type": "code",
   "execution_count": 43,
   "metadata": {},
   "outputs": [
    {
     "name": "stdout",
     "output_type": "stream",
     "text": [
      " & 0.743 & 0.745 & 0.691 & 0.756 & 0.785 & 0.816 & 0.756\n"
     ]
    },
    {
     "data": {
      "text/html": [
       "<div>\n",
       "<style scoped>\n",
       "    .dataframe tbody tr th:only-of-type {\n",
       "        vertical-align: middle;\n",
       "    }\n",
       "\n",
       "    .dataframe tbody tr th {\n",
       "        vertical-align: top;\n",
       "    }\n",
       "\n",
       "    .dataframe thead th {\n",
       "        text-align: right;\n",
       "    }\n",
       "</style>\n",
       "<table border=\"1\" class=\"dataframe\">\n",
       "  <thead>\n",
       "    <tr style=\"text-align: right;\">\n",
       "      <th></th>\n",
       "      <th>auc_roc</th>\n",
       "    </tr>\n",
       "  </thead>\n",
       "  <tbody>\n",
       "    <tr>\n",
       "      <th>AWT</th>\n",
       "      <td>0.743</td>\n",
       "    </tr>\n",
       "    <tr>\n",
       "      <th>CAN</th>\n",
       "      <td>0.745</td>\n",
       "    </tr>\n",
       "    <tr>\n",
       "      <th>NSW</th>\n",
       "      <td>0.691</td>\n",
       "    </tr>\n",
       "    <tr>\n",
       "      <th>NZ</th>\n",
       "      <td>0.756</td>\n",
       "    </tr>\n",
       "    <tr>\n",
       "      <th>SA</th>\n",
       "      <td>0.785</td>\n",
       "    </tr>\n",
       "    <tr>\n",
       "      <th>SWI</th>\n",
       "      <td>0.816</td>\n",
       "    </tr>\n",
       "    <tr>\n",
       "      <th>avg</th>\n",
       "      <td>0.756</td>\n",
       "    </tr>\n",
       "  </tbody>\n",
       "</table>\n",
       "</div>"
      ],
      "text/plain": [
       "     auc_roc\n",
       "AWT    0.743\n",
       "CAN    0.745\n",
       "NSW    0.691\n",
       "NZ     0.756\n",
       "SA     0.785\n",
       "SWI    0.816\n",
       "avg    0.756"
      ]
     },
     "execution_count": 43,
     "metadata": {},
     "output_type": "execute_result"
    }
   ],
   "source": [
    "logs_dir_optuna_params = os.path.join(log_root_dir, \"logs_optuna_params_test_val\")\n",
    "mean_test_auc_roc = get_mean_test_auc_roc(RunType.SINGLE_SPECIES_MLP, logs_dir_optuna_params)\n",
    "print(to_latex_table_row_format(mean_test_auc_roc, \"auc_roc\"))\n",
    "mean_test_auc_roc"
   ]
  },
  {
   "cell_type": "markdown",
   "metadata": {},
   "source": [
    "cross-val with test data and blocked cv"
   ]
  },
  {
   "cell_type": "code",
   "execution_count": 44,
   "metadata": {},
   "outputs": [
    {
     "name": "stdout",
     "output_type": "stream",
     "text": [
      " & 0.712 & 0.707 & 0.692 & 0.725 & 0.787 & 0.8 & 0.737\n"
     ]
    },
    {
     "data": {
      "text/html": [
       "<div>\n",
       "<style scoped>\n",
       "    .dataframe tbody tr th:only-of-type {\n",
       "        vertical-align: middle;\n",
       "    }\n",
       "\n",
       "    .dataframe tbody tr th {\n",
       "        vertical-align: top;\n",
       "    }\n",
       "\n",
       "    .dataframe thead th {\n",
       "        text-align: right;\n",
       "    }\n",
       "</style>\n",
       "<table border=\"1\" class=\"dataframe\">\n",
       "  <thead>\n",
       "    <tr style=\"text-align: right;\">\n",
       "      <th></th>\n",
       "      <th>auc_roc</th>\n",
       "    </tr>\n",
       "  </thead>\n",
       "  <tbody>\n",
       "    <tr>\n",
       "      <th>AWT</th>\n",
       "      <td>0.712</td>\n",
       "    </tr>\n",
       "    <tr>\n",
       "      <th>CAN</th>\n",
       "      <td>0.707</td>\n",
       "    </tr>\n",
       "    <tr>\n",
       "      <th>NSW</th>\n",
       "      <td>0.692</td>\n",
       "    </tr>\n",
       "    <tr>\n",
       "      <th>NZ</th>\n",
       "      <td>0.725</td>\n",
       "    </tr>\n",
       "    <tr>\n",
       "      <th>SA</th>\n",
       "      <td>0.787</td>\n",
       "    </tr>\n",
       "    <tr>\n",
       "      <th>SWI</th>\n",
       "      <td>0.800</td>\n",
       "    </tr>\n",
       "    <tr>\n",
       "      <th>avg</th>\n",
       "      <td>0.737</td>\n",
       "    </tr>\n",
       "  </tbody>\n",
       "</table>\n",
       "</div>"
      ],
      "text/plain": [
       "     auc_roc\n",
       "AWT    0.712\n",
       "CAN    0.707\n",
       "NSW    0.692\n",
       "NZ     0.725\n",
       "SA     0.787\n",
       "SWI    0.800\n",
       "avg    0.737"
      ]
     },
     "execution_count": 44,
     "metadata": {},
     "output_type": "execute_result"
    }
   ],
   "source": [
    "logs_dir_optuna_params = os.path.join(log_root_dir, \"logs_optuna_params_test_val_blocked_cv\")\n",
    "mean_test_auc_roc = get_mean_test_auc_roc(RunType.SINGLE_SPECIES_MLP, logs_dir_optuna_params)\n",
    "print(to_latex_table_row_format(mean_test_auc_roc, \"auc_roc\"))\n",
    "mean_test_auc_roc"
   ]
  },
  {
   "cell_type": "markdown",
   "metadata": {},
   "source": [
    "## Multi Species\n"
   ]
  },
  {
   "cell_type": "markdown",
   "metadata": {},
   "source": [
    "### Standard params"
   ]
  },
  {
   "cell_type": "code",
   "execution_count": 13,
   "metadata": {},
   "outputs": [
    {
     "data": {
      "text/html": [
       "<div>\n",
       "<style scoped>\n",
       "    .dataframe tbody tr th:only-of-type {\n",
       "        vertical-align: middle;\n",
       "    }\n",
       "\n",
       "    .dataframe tbody tr th {\n",
       "        vertical-align: top;\n",
       "    }\n",
       "\n",
       "    .dataframe thead th {\n",
       "        text-align: right;\n",
       "    }\n",
       "</style>\n",
       "<table border=\"1\" class=\"dataframe\">\n",
       "  <thead>\n",
       "    <tr style=\"text-align: right;\">\n",
       "      <th></th>\n",
       "      <th>auc_roc</th>\n",
       "    </tr>\n",
       "  </thead>\n",
       "  <tbody>\n",
       "    <tr>\n",
       "      <th>AWT</th>\n",
       "      <td>0.694</td>\n",
       "    </tr>\n",
       "    <tr>\n",
       "      <th>CAN</th>\n",
       "      <td>0.686</td>\n",
       "    </tr>\n",
       "    <tr>\n",
       "      <th>NSW</th>\n",
       "      <td>0.632</td>\n",
       "    </tr>\n",
       "    <tr>\n",
       "      <th>NZ</th>\n",
       "      <td>0.651</td>\n",
       "    </tr>\n",
       "    <tr>\n",
       "      <th>SA</th>\n",
       "      <td>0.778</td>\n",
       "    </tr>\n",
       "    <tr>\n",
       "      <th>SWI</th>\n",
       "      <td>0.770</td>\n",
       "    </tr>\n",
       "    <tr>\n",
       "      <th>avg</th>\n",
       "      <td>0.702</td>\n",
       "    </tr>\n",
       "  </tbody>\n",
       "</table>\n",
       "</div>"
      ],
      "text/plain": [
       "     auc_roc\n",
       "AWT    0.694\n",
       "CAN    0.686\n",
       "NSW    0.632\n",
       "NZ     0.651\n",
       "SA     0.778\n",
       "SWI    0.770\n",
       "avg    0.702"
      ]
     },
     "execution_count": 13,
     "metadata": {},
     "output_type": "execute_result"
    }
   ],
   "source": [
    "logs_dir_base_params = os.path.join(log_root_dir, \"logs_standard_params\")\n",
    "mean_test_auc_roc = get_mean_test_auc_roc(RunType.MULTI_SPECIES_MLP, logs_dir_base_params)\n",
    "mean_test_auc_roc"
   ]
  },
  {
   "cell_type": "markdown",
   "metadata": {},
   "source": [
    "### Lower params"
   ]
  },
  {
   "cell_type": "code",
   "execution_count": 15,
   "metadata": {},
   "outputs": [
    {
     "data": {
      "text/html": [
       "<div>\n",
       "<style scoped>\n",
       "    .dataframe tbody tr th:only-of-type {\n",
       "        vertical-align: middle;\n",
       "    }\n",
       "\n",
       "    .dataframe tbody tr th {\n",
       "        vertical-align: top;\n",
       "    }\n",
       "\n",
       "    .dataframe thead th {\n",
       "        text-align: right;\n",
       "    }\n",
       "</style>\n",
       "<table border=\"1\" class=\"dataframe\">\n",
       "  <thead>\n",
       "    <tr style=\"text-align: right;\">\n",
       "      <th></th>\n",
       "      <th>mean_test_auc_roc</th>\n",
       "    </tr>\n",
       "  </thead>\n",
       "  <tbody>\n",
       "    <tr>\n",
       "      <th>AWT</th>\n",
       "      <td>0.690</td>\n",
       "    </tr>\n",
       "    <tr>\n",
       "      <th>CAN</th>\n",
       "      <td>0.710</td>\n",
       "    </tr>\n",
       "    <tr>\n",
       "      <th>NSW</th>\n",
       "      <td>0.678</td>\n",
       "    </tr>\n",
       "    <tr>\n",
       "      <th>NZ</th>\n",
       "      <td>0.721</td>\n",
       "    </tr>\n",
       "    <tr>\n",
       "      <th>SA</th>\n",
       "      <td>0.756</td>\n",
       "    </tr>\n",
       "    <tr>\n",
       "      <th>SWI</th>\n",
       "      <td>0.838</td>\n",
       "    </tr>\n",
       "    <tr>\n",
       "      <th>avg</th>\n",
       "      <td>0.732</td>\n",
       "    </tr>\n",
       "  </tbody>\n",
       "</table>\n",
       "</div>"
      ],
      "text/plain": [
       "     mean_test_auc_roc\n",
       "AWT              0.690\n",
       "CAN              0.710\n",
       "NSW              0.678\n",
       "NZ               0.721\n",
       "SA               0.756\n",
       "SWI              0.838\n",
       "avg              0.732"
      ]
     },
     "execution_count": 15,
     "metadata": {},
     "output_type": "execute_result"
    }
   ],
   "source": [
    "logs_dir_lower_params_multi = os.path.join(log_root_dir, \"logs_lower_params\")\n",
    "mean_test_auc_roc = get_mean_test_auc_roc(RunType.MULTI_SPECIES_MLP, logs_dir_lower_params_multi)\n",
    "mean_test_auc_roc"
   ]
  },
  {
   "cell_type": "markdown",
   "metadata": {},
   "source": [
    "### Optuna params"
   ]
  },
  {
   "cell_type": "markdown",
   "metadata": {},
   "source": [
    "cross-val with train data"
   ]
  },
  {
   "cell_type": "code",
   "execution_count": 29,
   "metadata": {},
   "outputs": [
    {
     "name": "stdout",
     "output_type": "stream",
     "text": [
      " & 0.723 & 0.694 & 0.702 & 0.731 & 0.793 & 0.829 & 0.745\n"
     ]
    },
    {
     "data": {
      "text/html": [
       "<div>\n",
       "<style scoped>\n",
       "    .dataframe tbody tr th:only-of-type {\n",
       "        vertical-align: middle;\n",
       "    }\n",
       "\n",
       "    .dataframe tbody tr th {\n",
       "        vertical-align: top;\n",
       "    }\n",
       "\n",
       "    .dataframe thead th {\n",
       "        text-align: right;\n",
       "    }\n",
       "</style>\n",
       "<table border=\"1\" class=\"dataframe\">\n",
       "  <thead>\n",
       "    <tr style=\"text-align: right;\">\n",
       "      <th></th>\n",
       "      <th>auc_roc</th>\n",
       "    </tr>\n",
       "  </thead>\n",
       "  <tbody>\n",
       "    <tr>\n",
       "      <th>AWT</th>\n",
       "      <td>0.723</td>\n",
       "    </tr>\n",
       "    <tr>\n",
       "      <th>CAN</th>\n",
       "      <td>0.694</td>\n",
       "    </tr>\n",
       "    <tr>\n",
       "      <th>NSW</th>\n",
       "      <td>0.702</td>\n",
       "    </tr>\n",
       "    <tr>\n",
       "      <th>NZ</th>\n",
       "      <td>0.731</td>\n",
       "    </tr>\n",
       "    <tr>\n",
       "      <th>SA</th>\n",
       "      <td>0.793</td>\n",
       "    </tr>\n",
       "    <tr>\n",
       "      <th>SWI</th>\n",
       "      <td>0.829</td>\n",
       "    </tr>\n",
       "    <tr>\n",
       "      <th>avg</th>\n",
       "      <td>0.745</td>\n",
       "    </tr>\n",
       "  </tbody>\n",
       "</table>\n",
       "</div>"
      ],
      "text/plain": [
       "     auc_roc\n",
       "AWT    0.723\n",
       "CAN    0.694\n",
       "NSW    0.702\n",
       "NZ     0.731\n",
       "SA     0.793\n",
       "SWI    0.829\n",
       "avg    0.745"
      ]
     },
     "execution_count": 29,
     "metadata": {},
     "output_type": "execute_result"
    }
   ],
   "source": [
    "logs_dir_optuna_params_multi = os.path.join(log_root_dir, \"logs_optuna_params_train_val\")\n",
    "mean_test_auc_roc = get_mean_test_auc_roc(RunType.MULTI_SPECIES_MLP, logs_dir_optuna_params_multi)\n",
    "print(to_latex_table_row_format(mean_test_auc_roc, \"auc_roc\"))\n",
    "mean_test_auc_roc"
   ]
  },
  {
   "cell_type": "markdown",
   "metadata": {},
   "source": [
    "cross-val with test data, no blocked cv"
   ]
  },
  {
   "cell_type": "code",
   "execution_count": 5,
   "metadata": {},
   "outputs": [
    {
     "name": "stdout",
     "output_type": "stream",
     "text": [
      " & 0.719 & 0.702 & 0.725 & 0.742 & 0.79 & 0.832 & 0.752\n"
     ]
    },
    {
     "data": {
      "text/html": [
       "<div>\n",
       "<style scoped>\n",
       "    .dataframe tbody tr th:only-of-type {\n",
       "        vertical-align: middle;\n",
       "    }\n",
       "\n",
       "    .dataframe tbody tr th {\n",
       "        vertical-align: top;\n",
       "    }\n",
       "\n",
       "    .dataframe thead th {\n",
       "        text-align: right;\n",
       "    }\n",
       "</style>\n",
       "<table border=\"1\" class=\"dataframe\">\n",
       "  <thead>\n",
       "    <tr style=\"text-align: right;\">\n",
       "      <th></th>\n",
       "      <th>auc_roc</th>\n",
       "    </tr>\n",
       "  </thead>\n",
       "  <tbody>\n",
       "    <tr>\n",
       "      <th>AWT</th>\n",
       "      <td>0.719</td>\n",
       "    </tr>\n",
       "    <tr>\n",
       "      <th>CAN</th>\n",
       "      <td>0.702</td>\n",
       "    </tr>\n",
       "    <tr>\n",
       "      <th>NSW</th>\n",
       "      <td>0.725</td>\n",
       "    </tr>\n",
       "    <tr>\n",
       "      <th>NZ</th>\n",
       "      <td>0.742</td>\n",
       "    </tr>\n",
       "    <tr>\n",
       "      <th>SA</th>\n",
       "      <td>0.790</td>\n",
       "    </tr>\n",
       "    <tr>\n",
       "      <th>SWI</th>\n",
       "      <td>0.832</td>\n",
       "    </tr>\n",
       "    <tr>\n",
       "      <th>avg</th>\n",
       "      <td>0.752</td>\n",
       "    </tr>\n",
       "  </tbody>\n",
       "</table>\n",
       "</div>"
      ],
      "text/plain": [
       "     auc_roc\n",
       "AWT    0.719\n",
       "CAN    0.702\n",
       "NSW    0.725\n",
       "NZ     0.742\n",
       "SA     0.790\n",
       "SWI    0.832\n",
       "avg    0.752"
      ]
     },
     "execution_count": 5,
     "metadata": {},
     "output_type": "execute_result"
    }
   ],
   "source": [
    "logs_dir_optuna_params_multi = os.path.join(log_root_dir, \"logs_optuna_params_test_val\")\n",
    "mean_test_auc_roc = get_mean_test_auc_roc(RunType.MULTI_SPECIES_MLP, logs_dir_optuna_params_multi)\n",
    "print(to_latex_table_row_format(mean_test_auc_roc, \"auc_roc\"))\n",
    "mean_test_auc_roc"
   ]
  },
  {
   "cell_type": "markdown",
   "metadata": {},
   "source": [
    "cross-val with test data and blocked cv"
   ]
  },
  {
   "cell_type": "code",
   "execution_count": 31,
   "metadata": {},
   "outputs": [
    {
     "name": "stdout",
     "output_type": "stream",
     "text": [
      " & 0.718 & 0.707 & 0.725 & 0.739 & 0.758 & 0.833 & 0.747\n"
     ]
    },
    {
     "data": {
      "text/html": [
       "<div>\n",
       "<style scoped>\n",
       "    .dataframe tbody tr th:only-of-type {\n",
       "        vertical-align: middle;\n",
       "    }\n",
       "\n",
       "    .dataframe tbody tr th {\n",
       "        vertical-align: top;\n",
       "    }\n",
       "\n",
       "    .dataframe thead th {\n",
       "        text-align: right;\n",
       "    }\n",
       "</style>\n",
       "<table border=\"1\" class=\"dataframe\">\n",
       "  <thead>\n",
       "    <tr style=\"text-align: right;\">\n",
       "      <th></th>\n",
       "      <th>auc_roc</th>\n",
       "    </tr>\n",
       "  </thead>\n",
       "  <tbody>\n",
       "    <tr>\n",
       "      <th>AWT</th>\n",
       "      <td>0.718</td>\n",
       "    </tr>\n",
       "    <tr>\n",
       "      <th>CAN</th>\n",
       "      <td>0.707</td>\n",
       "    </tr>\n",
       "    <tr>\n",
       "      <th>NSW</th>\n",
       "      <td>0.725</td>\n",
       "    </tr>\n",
       "    <tr>\n",
       "      <th>NZ</th>\n",
       "      <td>0.739</td>\n",
       "    </tr>\n",
       "    <tr>\n",
       "      <th>SA</th>\n",
       "      <td>0.758</td>\n",
       "    </tr>\n",
       "    <tr>\n",
       "      <th>SWI</th>\n",
       "      <td>0.833</td>\n",
       "    </tr>\n",
       "    <tr>\n",
       "      <th>avg</th>\n",
       "      <td>0.747</td>\n",
       "    </tr>\n",
       "  </tbody>\n",
       "</table>\n",
       "</div>"
      ],
      "text/plain": [
       "     auc_roc\n",
       "AWT    0.718\n",
       "CAN    0.707\n",
       "NSW    0.725\n",
       "NZ     0.739\n",
       "SA     0.758\n",
       "SWI    0.833\n",
       "avg    0.747"
      ]
     },
     "execution_count": 31,
     "metadata": {},
     "output_type": "execute_result"
    }
   ],
   "source": [
    "logs_dir_optuna_params_multi = os.path.join(log_root_dir, \"logs_optuna_params_test_val_blocked_cv\")\n",
    "mean_test_auc_roc = get_mean_test_auc_roc(RunType.MULTI_SPECIES_MLP, logs_dir_optuna_params_multi)\n",
    "print(to_latex_table_row_format(mean_test_auc_roc, \"auc_roc\"))\n",
    "mean_test_auc_roc"
   ]
  },
  {
   "cell_type": "markdown",
   "metadata": {},
   "source": [
    "## Transfer learning"
   ]
  },
  {
   "cell_type": "markdown",
   "metadata": {},
   "source": [
    "### fine tuning the whole model"
   ]
  },
  {
   "cell_type": "code",
   "execution_count": 16,
   "metadata": {},
   "outputs": [],
   "source": [
    "# logs_dir_transfer_learning_whole_model = os.path.join(log_root_dir, \"logs_transfer_learning_whole_model\")\n",
    "# mean_test_auc_roc = get_mean_test_auc_roc(RunType.TRANSFER_LEARNING, logs_dir_transfer_learning_whole_model)\n",
    "# print(to_latex_table_row_format(mean_test_auc_roc, \"auc_roc\"))\n",
    "# mean_test_auc_roc"
   ]
  },
  {
   "cell_type": "markdown",
   "metadata": {},
   "source": [
    "### fine-tuning only the last layer"
   ]
  },
  {
   "cell_type": "code",
   "execution_count": null,
   "metadata": {},
   "outputs": [],
   "source": [
    "logs_dir_transfer_learning_last_layer_only = os.path.join(log_root_dir, \"logs_transfer_learning_last_layer_only_from_standard_base\")\n",
    "mean_test_auc_roc = get_mean_test_auc_roc(RunType.TRANSFER_LEARNING, logs_dir_transfer_learning_last_layer_only)\n",
    "print(to_latex_table_row_format(mean_test_auc_roc, \"auc_roc\"))\n",
    "mean_test_auc_roc"
   ]
  },
  {
   "cell_type": "markdown",
   "metadata": {},
   "source": [
    "### fine-tuning only the last layer but for 30 epochs instead of 15"
   ]
  },
  {
   "cell_type": "code",
   "execution_count": 18,
   "metadata": {},
   "outputs": [
    {
     "name": "stdout",
     "output_type": "stream",
     "text": [
      " & 0.651 & 0.689 & 0.642 & 0.656 & 0.741 & 0.836 & 0.703\n"
     ]
    },
    {
     "data": {
      "text/html": [
       "<div>\n",
       "<style scoped>\n",
       "    .dataframe tbody tr th:only-of-type {\n",
       "        vertical-align: middle;\n",
       "    }\n",
       "\n",
       "    .dataframe tbody tr th {\n",
       "        vertical-align: top;\n",
       "    }\n",
       "\n",
       "    .dataframe thead th {\n",
       "        text-align: right;\n",
       "    }\n",
       "</style>\n",
       "<table border=\"1\" class=\"dataframe\">\n",
       "  <thead>\n",
       "    <tr style=\"text-align: right;\">\n",
       "      <th></th>\n",
       "      <th>mean_test_auc_roc</th>\n",
       "    </tr>\n",
       "  </thead>\n",
       "  <tbody>\n",
       "    <tr>\n",
       "      <th>AWT</th>\n",
       "      <td>0.651</td>\n",
       "    </tr>\n",
       "    <tr>\n",
       "      <th>CAN</th>\n",
       "      <td>0.689</td>\n",
       "    </tr>\n",
       "    <tr>\n",
       "      <th>NSW</th>\n",
       "      <td>0.642</td>\n",
       "    </tr>\n",
       "    <tr>\n",
       "      <th>NZ</th>\n",
       "      <td>0.656</td>\n",
       "    </tr>\n",
       "    <tr>\n",
       "      <th>SA</th>\n",
       "      <td>0.741</td>\n",
       "    </tr>\n",
       "    <tr>\n",
       "      <th>SWI</th>\n",
       "      <td>0.836</td>\n",
       "    </tr>\n",
       "    <tr>\n",
       "      <th>avg</th>\n",
       "      <td>0.703</td>\n",
       "    </tr>\n",
       "  </tbody>\n",
       "</table>\n",
       "</div>"
      ],
      "text/plain": [
       "     mean_test_auc_roc\n",
       "AWT              0.651\n",
       "CAN              0.689\n",
       "NSW              0.642\n",
       "NZ               0.656\n",
       "SA               0.741\n",
       "SWI              0.836\n",
       "avg              0.703"
      ]
     },
     "execution_count": 18,
     "metadata": {},
     "output_type": "execute_result"
    }
   ],
   "source": [
    "logs_dir_transfer_learning_last_layer_only_30 = os.path.join(log_root_dir, \"logs_transfer_learning_last_layer_only_30epochs_from_standard_base\")\n",
    "mean_test_auc_roc = get_mean_test_auc_roc(RunType.TRANSFER_LEARNING, logs_dir_transfer_learning_last_layer_only_30)\n",
    "print(to_latex_table_row_format(mean_test_auc_roc, \"auc_roc\"))\n",
    "mean_test_auc_roc"
   ]
  },
  {
   "cell_type": "markdown",
   "metadata": {},
   "source": [
    "### fine-tuning only the last layer but using a base model with the lower parameters"
   ]
  },
  {
   "cell_type": "code",
   "execution_count": 19,
   "metadata": {},
   "outputs": [
    {
     "name": "stdout",
     "output_type": "stream",
     "text": [
      " & 0.646 & 0.63 & 0.572 & 0.591 & 0.696 & 0.831 & 0.661\n"
     ]
    },
    {
     "data": {
      "text/html": [
       "<div>\n",
       "<style scoped>\n",
       "    .dataframe tbody tr th:only-of-type {\n",
       "        vertical-align: middle;\n",
       "    }\n",
       "\n",
       "    .dataframe tbody tr th {\n",
       "        vertical-align: top;\n",
       "    }\n",
       "\n",
       "    .dataframe thead th {\n",
       "        text-align: right;\n",
       "    }\n",
       "</style>\n",
       "<table border=\"1\" class=\"dataframe\">\n",
       "  <thead>\n",
       "    <tr style=\"text-align: right;\">\n",
       "      <th></th>\n",
       "      <th>mean_test_auc_roc</th>\n",
       "    </tr>\n",
       "  </thead>\n",
       "  <tbody>\n",
       "    <tr>\n",
       "      <th>AWT</th>\n",
       "      <td>0.646</td>\n",
       "    </tr>\n",
       "    <tr>\n",
       "      <th>CAN</th>\n",
       "      <td>0.630</td>\n",
       "    </tr>\n",
       "    <tr>\n",
       "      <th>NSW</th>\n",
       "      <td>0.572</td>\n",
       "    </tr>\n",
       "    <tr>\n",
       "      <th>NZ</th>\n",
       "      <td>0.591</td>\n",
       "    </tr>\n",
       "    <tr>\n",
       "      <th>SA</th>\n",
       "      <td>0.696</td>\n",
       "    </tr>\n",
       "    <tr>\n",
       "      <th>SWI</th>\n",
       "      <td>0.831</td>\n",
       "    </tr>\n",
       "    <tr>\n",
       "      <th>avg</th>\n",
       "      <td>0.661</td>\n",
       "    </tr>\n",
       "  </tbody>\n",
       "</table>\n",
       "</div>"
      ],
      "text/plain": [
       "     mean_test_auc_roc\n",
       "AWT              0.646\n",
       "CAN              0.630\n",
       "NSW              0.572\n",
       "NZ               0.591\n",
       "SA               0.696\n",
       "SWI              0.831\n",
       "avg              0.661"
      ]
     },
     "execution_count": 19,
     "metadata": {},
     "output_type": "execute_result"
    }
   ],
   "source": [
    "logs_dir_transfer_learning_last_layer_only_lower_params = os.path.join(log_root_dir, \"logs_transfer_learning_last_layer_only_from_lower_base\")\n",
    "mean_test_auc_roc = get_mean_test_auc_roc(RunType.TRANSFER_LEARNING, logs_dir_transfer_learning_last_layer_only_lower_params)\n",
    "print(to_latex_table_row_format(mean_test_auc_roc, \"auc_roc\"))\n",
    "mean_test_auc_roc"
   ]
  },
  {
   "cell_type": "markdown",
   "metadata": {},
   "source": [
    "### Optuna params"
   ]
  },
  {
   "cell_type": "markdown",
   "metadata": {},
   "source": [
    "cross-val with train data"
   ]
  },
  {
   "cell_type": "code",
   "execution_count": 15,
   "metadata": {},
   "outputs": [
    {
     "name": "stdout",
     "output_type": "stream",
     "text": [
      " & 0.693 & 0.701 & 0.711 & 0.725 & 0.786 & 0.831 & 0.741\n"
     ]
    },
    {
     "data": {
      "text/html": [
       "<div>\n",
       "<style scoped>\n",
       "    .dataframe tbody tr th:only-of-type {\n",
       "        vertical-align: middle;\n",
       "    }\n",
       "\n",
       "    .dataframe tbody tr th {\n",
       "        vertical-align: top;\n",
       "    }\n",
       "\n",
       "    .dataframe thead th {\n",
       "        text-align: right;\n",
       "    }\n",
       "</style>\n",
       "<table border=\"1\" class=\"dataframe\">\n",
       "  <thead>\n",
       "    <tr style=\"text-align: right;\">\n",
       "      <th></th>\n",
       "      <th>auc_roc</th>\n",
       "    </tr>\n",
       "  </thead>\n",
       "  <tbody>\n",
       "    <tr>\n",
       "      <th>AWT</th>\n",
       "      <td>0.693</td>\n",
       "    </tr>\n",
       "    <tr>\n",
       "      <th>CAN</th>\n",
       "      <td>0.701</td>\n",
       "    </tr>\n",
       "    <tr>\n",
       "      <th>NSW</th>\n",
       "      <td>0.711</td>\n",
       "    </tr>\n",
       "    <tr>\n",
       "      <th>NZ</th>\n",
       "      <td>0.725</td>\n",
       "    </tr>\n",
       "    <tr>\n",
       "      <th>SA</th>\n",
       "      <td>0.786</td>\n",
       "    </tr>\n",
       "    <tr>\n",
       "      <th>SWI</th>\n",
       "      <td>0.831</td>\n",
       "    </tr>\n",
       "    <tr>\n",
       "      <th>avg</th>\n",
       "      <td>0.741</td>\n",
       "    </tr>\n",
       "  </tbody>\n",
       "</table>\n",
       "</div>"
      ],
      "text/plain": [
       "     auc_roc\n",
       "AWT    0.693\n",
       "CAN    0.701\n",
       "NSW    0.711\n",
       "NZ     0.725\n",
       "SA     0.786\n",
       "SWI    0.831\n",
       "avg    0.741"
      ]
     },
     "execution_count": 15,
     "metadata": {},
     "output_type": "execute_result"
    }
   ],
   "source": [
    "logs_dir_transfer_learning_optuna = os.path.join(log_root_dir, \"logs_optuna_params_train_val\")\n",
    "mean_test_auc_roc = get_mean_test_auc_roc(RunType.TRANSFER_LEARNING, logs_dir_transfer_learning_optuna)\n",
    "print(to_latex_table_row_format(mean_test_auc_roc, \"auc_roc\"))\n",
    "mean_test_auc_roc"
   ]
  },
  {
   "cell_type": "markdown",
   "metadata": {},
   "source": [
    "cross-val with test data, no blocked cv"
   ]
  },
  {
   "cell_type": "code",
   "execution_count": 16,
   "metadata": {},
   "outputs": [
    {
     "name": "stdout",
     "output_type": "stream",
     "text": [
      " & 0.73 & 0.729 & 0.729 & 0.77 & 0.782 & 0.824 & 0.761\n"
     ]
    },
    {
     "data": {
      "text/html": [
       "<div>\n",
       "<style scoped>\n",
       "    .dataframe tbody tr th:only-of-type {\n",
       "        vertical-align: middle;\n",
       "    }\n",
       "\n",
       "    .dataframe tbody tr th {\n",
       "        vertical-align: top;\n",
       "    }\n",
       "\n",
       "    .dataframe thead th {\n",
       "        text-align: right;\n",
       "    }\n",
       "</style>\n",
       "<table border=\"1\" class=\"dataframe\">\n",
       "  <thead>\n",
       "    <tr style=\"text-align: right;\">\n",
       "      <th></th>\n",
       "      <th>auc_roc</th>\n",
       "    </tr>\n",
       "  </thead>\n",
       "  <tbody>\n",
       "    <tr>\n",
       "      <th>AWT</th>\n",
       "      <td>0.730</td>\n",
       "    </tr>\n",
       "    <tr>\n",
       "      <th>CAN</th>\n",
       "      <td>0.729</td>\n",
       "    </tr>\n",
       "    <tr>\n",
       "      <th>NSW</th>\n",
       "      <td>0.729</td>\n",
       "    </tr>\n",
       "    <tr>\n",
       "      <th>NZ</th>\n",
       "      <td>0.770</td>\n",
       "    </tr>\n",
       "    <tr>\n",
       "      <th>SA</th>\n",
       "      <td>0.782</td>\n",
       "    </tr>\n",
       "    <tr>\n",
       "      <th>SWI</th>\n",
       "      <td>0.824</td>\n",
       "    </tr>\n",
       "    <tr>\n",
       "      <th>avg</th>\n",
       "      <td>0.761</td>\n",
       "    </tr>\n",
       "  </tbody>\n",
       "</table>\n",
       "</div>"
      ],
      "text/plain": [
       "     auc_roc\n",
       "AWT    0.730\n",
       "CAN    0.729\n",
       "NSW    0.729\n",
       "NZ     0.770\n",
       "SA     0.782\n",
       "SWI    0.824\n",
       "avg    0.761"
      ]
     },
     "execution_count": 16,
     "metadata": {},
     "output_type": "execute_result"
    }
   ],
   "source": [
    "logs_dir_transfer_learning_optuna = os.path.join(log_root_dir, \"logs_optuna_params_test_val\")\n",
    "mean_test_auc_roc = get_mean_test_auc_roc(RunType.TRANSFER_LEARNING, logs_dir_transfer_learning_optuna)\n",
    "print(to_latex_table_row_format(mean_test_auc_roc, \"auc_roc\"))\n",
    "mean_test_auc_roc"
   ]
  },
  {
   "cell_type": "markdown",
   "metadata": {},
   "source": [
    "cross-val with test data and blocked cv"
   ]
  },
  {
   "cell_type": "code",
   "execution_count": 5,
   "metadata": {},
   "outputs": [
    {
     "name": "stdout",
     "output_type": "stream",
     "text": [
      " & 0.694 & 0.697 & 0.709 & 0.732 & 0.764 & 0.814 & 0.735\n"
     ]
    },
    {
     "data": {
      "text/html": [
       "<div>\n",
       "<style scoped>\n",
       "    .dataframe tbody tr th:only-of-type {\n",
       "        vertical-align: middle;\n",
       "    }\n",
       "\n",
       "    .dataframe tbody tr th {\n",
       "        vertical-align: top;\n",
       "    }\n",
       "\n",
       "    .dataframe thead th {\n",
       "        text-align: right;\n",
       "    }\n",
       "</style>\n",
       "<table border=\"1\" class=\"dataframe\">\n",
       "  <thead>\n",
       "    <tr style=\"text-align: right;\">\n",
       "      <th></th>\n",
       "      <th>auc_roc</th>\n",
       "    </tr>\n",
       "  </thead>\n",
       "  <tbody>\n",
       "    <tr>\n",
       "      <th>AWT</th>\n",
       "      <td>0.694</td>\n",
       "    </tr>\n",
       "    <tr>\n",
       "      <th>CAN</th>\n",
       "      <td>0.697</td>\n",
       "    </tr>\n",
       "    <tr>\n",
       "      <th>NSW</th>\n",
       "      <td>0.709</td>\n",
       "    </tr>\n",
       "    <tr>\n",
       "      <th>NZ</th>\n",
       "      <td>0.732</td>\n",
       "    </tr>\n",
       "    <tr>\n",
       "      <th>SA</th>\n",
       "      <td>0.764</td>\n",
       "    </tr>\n",
       "    <tr>\n",
       "      <th>SWI</th>\n",
       "      <td>0.814</td>\n",
       "    </tr>\n",
       "    <tr>\n",
       "      <th>avg</th>\n",
       "      <td>0.735</td>\n",
       "    </tr>\n",
       "  </tbody>\n",
       "</table>\n",
       "</div>"
      ],
      "text/plain": [
       "     auc_roc\n",
       "AWT    0.694\n",
       "CAN    0.697\n",
       "NSW    0.709\n",
       "NZ     0.732\n",
       "SA     0.764\n",
       "SWI    0.814\n",
       "avg    0.735"
      ]
     },
     "execution_count": 5,
     "metadata": {},
     "output_type": "execute_result"
    }
   ],
   "source": [
    "logs_dir_transfer_learning_optuna = os.path.join(log_root_dir, \"logs_optuna_params_test_val_blocked_cv\")\n",
    "mean_test_auc_roc = get_mean_test_auc_roc(RunType.TRANSFER_LEARNING, logs_dir_transfer_learning_optuna)\n",
    "print(to_latex_table_row_format(mean_test_auc_roc, \"auc_roc\"))\n",
    "mean_test_auc_roc"
   ]
  },
  {
   "cell_type": "markdown",
   "metadata": {},
   "source": [
    "# MAML"
   ]
  },
  {
   "cell_type": "markdown",
   "metadata": {},
   "source": [
    "### Standard Params"
   ]
  },
  {
   "cell_type": "code",
   "execution_count": 14,
   "metadata": {},
   "outputs": [
    {
     "name": "stdout",
     "output_type": "stream",
     "text": [
      " & 0.701 & 0.697 & 0.661 & 0.73 & 0.768 & 0.81 & 0.728\n"
     ]
    },
    {
     "data": {
      "text/html": [
       "<div>\n",
       "<style scoped>\n",
       "    .dataframe tbody tr th:only-of-type {\n",
       "        vertical-align: middle;\n",
       "    }\n",
       "\n",
       "    .dataframe tbody tr th {\n",
       "        vertical-align: top;\n",
       "    }\n",
       "\n",
       "    .dataframe thead th {\n",
       "        text-align: right;\n",
       "    }\n",
       "</style>\n",
       "<table border=\"1\" class=\"dataframe\">\n",
       "  <thead>\n",
       "    <tr style=\"text-align: right;\">\n",
       "      <th></th>\n",
       "      <th>auc_roc</th>\n",
       "    </tr>\n",
       "  </thead>\n",
       "  <tbody>\n",
       "    <tr>\n",
       "      <th>AWT</th>\n",
       "      <td>0.701</td>\n",
       "    </tr>\n",
       "    <tr>\n",
       "      <th>CAN</th>\n",
       "      <td>0.697</td>\n",
       "    </tr>\n",
       "    <tr>\n",
       "      <th>NSW</th>\n",
       "      <td>0.661</td>\n",
       "    </tr>\n",
       "    <tr>\n",
       "      <th>NZ</th>\n",
       "      <td>0.730</td>\n",
       "    </tr>\n",
       "    <tr>\n",
       "      <th>SA</th>\n",
       "      <td>0.768</td>\n",
       "    </tr>\n",
       "    <tr>\n",
       "      <th>SWI</th>\n",
       "      <td>0.810</td>\n",
       "    </tr>\n",
       "    <tr>\n",
       "      <th>avg</th>\n",
       "      <td>0.728</td>\n",
       "    </tr>\n",
       "  </tbody>\n",
       "</table>\n",
       "</div>"
      ],
      "text/plain": [
       "     auc_roc\n",
       "AWT    0.701\n",
       "CAN    0.697\n",
       "NSW    0.661\n",
       "NZ     0.730\n",
       "SA     0.768\n",
       "SWI    0.810\n",
       "avg    0.728"
      ]
     },
     "execution_count": 14,
     "metadata": {},
     "output_type": "execute_result"
    }
   ],
   "source": [
    "logs_dir_maml = os.path.join(log_root_dir, \"logs_maml\")\n",
    "mean_test_auc_roc = get_mean_test_auc_roc(RunType.MAML, logs_dir_maml)\n",
    "print(to_latex_table_row_format(mean_test_auc_roc, \"auc_roc\"))\n",
    "mean_test_auc_roc"
   ]
  },
  {
   "cell_type": "markdown",
   "metadata": {},
   "source": [
    "### Optuna Params"
   ]
  },
  {
   "cell_type": "markdown",
   "metadata": {},
   "source": [
    "cross-val with train data"
   ]
  },
  {
   "cell_type": "code",
   "execution_count": 46,
   "metadata": {},
   "outputs": [
    {
     "name": "stdout",
     "output_type": "stream",
     "text": [
      " & 0.691 & 0.707 & 0.695 & 0.721 & 0.774 & 0.829 & 0.736\n"
     ]
    },
    {
     "data": {
      "text/html": [
       "<div>\n",
       "<style scoped>\n",
       "    .dataframe tbody tr th:only-of-type {\n",
       "        vertical-align: middle;\n",
       "    }\n",
       "\n",
       "    .dataframe tbody tr th {\n",
       "        vertical-align: top;\n",
       "    }\n",
       "\n",
       "    .dataframe thead th {\n",
       "        text-align: right;\n",
       "    }\n",
       "</style>\n",
       "<table border=\"1\" class=\"dataframe\">\n",
       "  <thead>\n",
       "    <tr style=\"text-align: right;\">\n",
       "      <th></th>\n",
       "      <th>auc_roc</th>\n",
       "    </tr>\n",
       "  </thead>\n",
       "  <tbody>\n",
       "    <tr>\n",
       "      <th>AWT</th>\n",
       "      <td>0.691</td>\n",
       "    </tr>\n",
       "    <tr>\n",
       "      <th>CAN</th>\n",
       "      <td>0.707</td>\n",
       "    </tr>\n",
       "    <tr>\n",
       "      <th>NSW</th>\n",
       "      <td>0.695</td>\n",
       "    </tr>\n",
       "    <tr>\n",
       "      <th>NZ</th>\n",
       "      <td>0.721</td>\n",
       "    </tr>\n",
       "    <tr>\n",
       "      <th>SA</th>\n",
       "      <td>0.774</td>\n",
       "    </tr>\n",
       "    <tr>\n",
       "      <th>SWI</th>\n",
       "      <td>0.829</td>\n",
       "    </tr>\n",
       "    <tr>\n",
       "      <th>avg</th>\n",
       "      <td>0.736</td>\n",
       "    </tr>\n",
       "  </tbody>\n",
       "</table>\n",
       "</div>"
      ],
      "text/plain": [
       "     auc_roc\n",
       "AWT    0.691\n",
       "CAN    0.707\n",
       "NSW    0.695\n",
       "NZ     0.721\n",
       "SA     0.774\n",
       "SWI    0.829\n",
       "avg    0.736"
      ]
     },
     "execution_count": 46,
     "metadata": {},
     "output_type": "execute_result"
    }
   ],
   "source": [
    "logs_dir_maml = os.path.join(log_root_dir, \"logs_optuna_params_train_val\")\n",
    "mean_test_auc_roc = get_mean_test_auc_roc(RunType.MAML, logs_dir_maml)\n",
    "print(to_latex_table_row_format(mean_test_auc_roc, \"auc_roc\"))\n",
    "mean_test_auc_roc"
   ]
  },
  {
   "cell_type": "markdown",
   "metadata": {},
   "source": [
    "cross-val with test data, no blocked cv"
   ]
  },
  {
   "cell_type": "code",
   "execution_count": 47,
   "metadata": {},
   "outputs": [
    {
     "name": "stdout",
     "output_type": "stream",
     "text": [
      " & 0.721 & 0.708 & 0.7 & 0.747 & 0.776 & 0.815 & 0.745\n"
     ]
    },
    {
     "data": {
      "text/html": [
       "<div>\n",
       "<style scoped>\n",
       "    .dataframe tbody tr th:only-of-type {\n",
       "        vertical-align: middle;\n",
       "    }\n",
       "\n",
       "    .dataframe tbody tr th {\n",
       "        vertical-align: top;\n",
       "    }\n",
       "\n",
       "    .dataframe thead th {\n",
       "        text-align: right;\n",
       "    }\n",
       "</style>\n",
       "<table border=\"1\" class=\"dataframe\">\n",
       "  <thead>\n",
       "    <tr style=\"text-align: right;\">\n",
       "      <th></th>\n",
       "      <th>auc_roc</th>\n",
       "    </tr>\n",
       "  </thead>\n",
       "  <tbody>\n",
       "    <tr>\n",
       "      <th>AWT</th>\n",
       "      <td>0.721</td>\n",
       "    </tr>\n",
       "    <tr>\n",
       "      <th>CAN</th>\n",
       "      <td>0.708</td>\n",
       "    </tr>\n",
       "    <tr>\n",
       "      <th>NSW</th>\n",
       "      <td>0.700</td>\n",
       "    </tr>\n",
       "    <tr>\n",
       "      <th>NZ</th>\n",
       "      <td>0.747</td>\n",
       "    </tr>\n",
       "    <tr>\n",
       "      <th>SA</th>\n",
       "      <td>0.776</td>\n",
       "    </tr>\n",
       "    <tr>\n",
       "      <th>SWI</th>\n",
       "      <td>0.815</td>\n",
       "    </tr>\n",
       "    <tr>\n",
       "      <th>avg</th>\n",
       "      <td>0.745</td>\n",
       "    </tr>\n",
       "  </tbody>\n",
       "</table>\n",
       "</div>"
      ],
      "text/plain": [
       "     auc_roc\n",
       "AWT    0.721\n",
       "CAN    0.708\n",
       "NSW    0.700\n",
       "NZ     0.747\n",
       "SA     0.776\n",
       "SWI    0.815\n",
       "avg    0.745"
      ]
     },
     "execution_count": 47,
     "metadata": {},
     "output_type": "execute_result"
    }
   ],
   "source": [
    "logs_dir_maml = os.path.join(log_root_dir, \"logs_optuna_params_test_val\")\n",
    "mean_test_auc_roc = get_mean_test_auc_roc(RunType.MAML, logs_dir_maml)\n",
    "print(to_latex_table_row_format(mean_test_auc_roc, \"auc_roc\"))\n",
    "mean_test_auc_roc"
   ]
  },
  {
   "cell_type": "markdown",
   "metadata": {},
   "source": [
    "cross-val with test and and blocked cv"
   ]
  },
  {
   "cell_type": "code",
   "execution_count": 48,
   "metadata": {},
   "outputs": [
    {
     "name": "stdout",
     "output_type": "stream",
     "text": [
      " & 0.714 & 0.691 & 0.689 & 0.723 & 0.788 & 0.809 & 0.736\n"
     ]
    },
    {
     "data": {
      "text/html": [
       "<div>\n",
       "<style scoped>\n",
       "    .dataframe tbody tr th:only-of-type {\n",
       "        vertical-align: middle;\n",
       "    }\n",
       "\n",
       "    .dataframe tbody tr th {\n",
       "        vertical-align: top;\n",
       "    }\n",
       "\n",
       "    .dataframe thead th {\n",
       "        text-align: right;\n",
       "    }\n",
       "</style>\n",
       "<table border=\"1\" class=\"dataframe\">\n",
       "  <thead>\n",
       "    <tr style=\"text-align: right;\">\n",
       "      <th></th>\n",
       "      <th>auc_roc</th>\n",
       "    </tr>\n",
       "  </thead>\n",
       "  <tbody>\n",
       "    <tr>\n",
       "      <th>AWT</th>\n",
       "      <td>0.714</td>\n",
       "    </tr>\n",
       "    <tr>\n",
       "      <th>CAN</th>\n",
       "      <td>0.691</td>\n",
       "    </tr>\n",
       "    <tr>\n",
       "      <th>NSW</th>\n",
       "      <td>0.689</td>\n",
       "    </tr>\n",
       "    <tr>\n",
       "      <th>NZ</th>\n",
       "      <td>0.723</td>\n",
       "    </tr>\n",
       "    <tr>\n",
       "      <th>SA</th>\n",
       "      <td>0.788</td>\n",
       "    </tr>\n",
       "    <tr>\n",
       "      <th>SWI</th>\n",
       "      <td>0.809</td>\n",
       "    </tr>\n",
       "    <tr>\n",
       "      <th>avg</th>\n",
       "      <td>0.736</td>\n",
       "    </tr>\n",
       "  </tbody>\n",
       "</table>\n",
       "</div>"
      ],
      "text/plain": [
       "     auc_roc\n",
       "AWT    0.714\n",
       "CAN    0.691\n",
       "NSW    0.689\n",
       "NZ     0.723\n",
       "SA     0.788\n",
       "SWI    0.809\n",
       "avg    0.736"
      ]
     },
     "execution_count": 48,
     "metadata": {},
     "output_type": "execute_result"
    }
   ],
   "source": [
    "logs_dir_maml = os.path.join(log_root_dir, \"logs_optuna_params_test_val_blocked_cv\")\n",
    "mean_test_auc_roc = get_mean_test_auc_roc(RunType.MAML, logs_dir_maml)\n",
    "print(to_latex_table_row_format(mean_test_auc_roc, \"auc_roc\"))\n",
    "mean_test_auc_roc"
   ]
  },
  {
   "cell_type": "markdown",
   "metadata": {},
   "source": [
    "# Visual comparisons\n",
    "\n",
    "### Compare the different methods using optuna params"
   ]
  },
  {
   "cell_type": "code",
   "execution_count": 88,
   "metadata": {},
   "outputs": [
    {
     "data": {
      "image/png": "[encoded data removed]",
      "text/plain": [
       "<Figure size 640x480 with 1 Axes>"
      ]
     },
     "metadata": {},
     "output_type": "display_data"
    }
   ],
   "source": [
    "\n",
    "\n",
    "def get_arrays_for_plotting(run_type:RunType, logs_dir):\n",
    "    auc_rocs = []\n",
    "    species_all = []\n",
    "    species_samples_count = []\n",
    "    run_types = []\n",
    "\n",
    "    region_list = get_region_list()\n",
    "    for region in region_list:\n",
    "        region_auc_rocs = read_log_run(run_type, region, logs_dir)['auc_roc'].to_dict()\n",
    "        region_species_samples_count = get_dict_from_species_name_to_nb_of_samples(region)\n",
    "        for species in region_auc_rocs.keys():\n",
    "            auc_rocs.append(region_auc_rocs[species])\n",
    "            species_samples_count.append(region_species_samples_count[species])\n",
    "            species_all.append(species)\n",
    "            run_types.append(run_type)\n",
    "    return auc_rocs, species_all, species_samples_count, run_types\n",
    "\n",
    "\n",
    "optuna_log_path = \"logs_optuna_params_test_val\"\n",
    "logs_dir = os.path.join(log_root_dir, optuna_log_path)\n",
    "\n",
    "auc_rocs_multi, species_multi, region_species_samples_count_multi, run_types_multi = get_arrays_for_plotting(RunType.MULTI_SPECIES_MLP, logs_dir)\n",
    "auc_rocs_single, species_single, region_species_samples_count_single, run_types_single = get_arrays_for_plotting(RunType.SINGLE_SPECIES_MLP, logs_dir)\n",
    "auc_rocs_transfer, species_transfer, region_species_samples_count_transfer, run_types_transfer = get_arrays_for_plotting(RunType.TRANSFER_LEARNING, logs_dir)\n",
    "auc_rocs_maml, species_maml, region_species_samples_count_maml, run_types_maml = get_arrays_for_plotting(RunType.MAML, logs_dir)\n",
    "\n",
    "\n",
    "\n",
    "\n",
    "\n",
    "\n",
    "\n",
    "def plot_histogram(auc_rocs, species_counts, category_label, color):\n",
    "    intervals = [(2, 10), (10, 30), (30, 50), (50, 200), (200, 6000)]\n",
    "\n",
    "    # Initialize lists to store mean AUC values for each interval\n",
    "    mean_auc_values = []\n",
    "\n",
    "    auc_rocs = np.array(auc_rocs)\n",
    "    species_counts = np.array(species_counts)\n",
    "    category_label = np.array(category_label)\n",
    "    \n",
    "\n",
    "    for interval in intervals:\n",
    "        lower_bound, upper_bound = interval\n",
    "\n",
    "        # Filter AUC values within the current interval\n",
    "        mask = np.logical_and(species_counts >= lower_bound, species_counts <= upper_bound)\n",
    "        auc_values_in_interval = auc_rocs[mask]\n",
    "\n",
    "        mean_auc = np.mean(auc_values_in_interval)\n",
    "        mean_auc_values.append(mean_auc)\n",
    "\n",
    "    plt.scatter(range(len(intervals)), mean_auc_values, color=color, label=category_label, marker='o')\n",
    "\n",
    "\n",
    "plot_histogram(auc_rocs_multi, region_species_samples_count_multi, 'Multi', color='blue')\n",
    "plot_histogram(auc_rocs_single, region_species_samples_count_single, 'Single', color='green')\n",
    "plot_histogram(auc_rocs_transfer, region_species_samples_count_transfer, 'Transfer', color='orange')\n",
    "plot_histogram(auc_rocs_maml, region_species_samples_count_maml, 'MAML', color='red')\n",
    "\n",
    "plt.xlabel('Species Samples Counts Intervals')\n",
    "plt.xticks(range(len([(1, 10), (11, 30), (31, 50), (51, 200), (201, 6000)])),\n",
    "           [interval for interval in [\"[1, 10]\", \"[11, 30]\", \"[31, 50]\", \"[51, 200[\", \"[201, 6000]\"]])\n",
    "\n",
    "plt.ylabel('Mean AUC')\n",
    "\n",
    "plt.legend()\n",
    "\n",
    "plt.show()\n"
   ]
  },
  {
   "cell_type": "markdown",
   "metadata": {},
   "source": [
    "# Visualization of the evolution of test and validation performance during training"
   ]
  },
  {
   "cell_type": "code",
   "execution_count": 29,
   "metadata": {},
   "outputs": [
    {
     "data": {
      "image/png": "[encoded data removed]",
      "text/plain": [
       "<Figure size 640x480 with 1 Axes>"
      ]
     },
     "metadata": {},
     "output_type": "display_data"
    }
   ],
   "source": [
    "\n",
    "\n",
    "run_type = RunType.TRANSFER_LEARNING\n",
    "log_top_level_dir = os.path.join(\"training_val_and_test_results\", \"logs\", \"logs_optuna_params_train_val\")\n",
    "region = \"AWT\"\n",
    "\n",
    "region_species = get_species_list(region)\n",
    "species_idx = 1\n",
    "species = region_species[species_idx]\n",
    "\n",
    "training_results_val = read_training_results(run_type, log_top_level_dir, region, species, \"val\")\n",
    "training_results_test = read_training_results(run_type, log_top_level_dir, region, species, \"test\")\n",
    "\n",
    "# Create a figure and axis\n",
    "fig, ax = plt.subplots()\n",
    "\n",
    "# Plot points for training_results_val\n",
    "x_labels = range(len(training_results_val)) if run_type==RunType.TRANSFER_LEARNING else range(1, len(training_results_val)+1)\n",
    "ax.plot(x_labels, training_results_val, label='Validation', color='blue')\n",
    "\n",
    "# Plot points for training_results_test\n",
    "ax.plot(x_labels, training_results_test, label='Test', color='red')\n",
    "\n",
    "# Set integer ticks on the x-axis\n",
    "ax.set_xticks(range(len(training_results_val)))\n",
    "\n",
    "# Set labels and title\n",
    "ax.set_xlabel('Epoch')\n",
    "ax.set_ylabel('Auc ROC')\n",
    "\n",
    "# Add a legend\n",
    "ax.legend()\n",
    "\n",
    "# Show the plot\n",
    "plt.show()"
   ]
  },
  {
   "cell_type": "code",
   "execution_count": 98,
   "metadata": {},
   "outputs": [
    {
     "name": "stdout",
     "output_type": "stream",
     "text": [
      " & 0.079 & 0.079 & 0.079 & 0.079 & 0.079 & 0.079 & 0.079\n"
     ]
    }
   ],
   "source": [
    "# Get the correlation score of the curves based on if train, test, or blocked test\n",
    "\n",
    "def is_array_not_constant(arr):\n",
    "    # Check if the standard deviation is greater than 0\n",
    "    return np.std(arr) > 1e-5\n",
    "\n",
    "run_type = RunType.TRANSFER_LEARNING\n",
    "log_top_level_dir = os.path.join(\"training_val_and_test_results\", \"logs\", \"logs_optuna_params_test_val\")\n",
    "\n",
    "regions_mean_correlation_scores = []\n",
    "\n",
    "for region in get_region_list():\n",
    "\n",
    "    region_correlation_scores = []\n",
    "\n",
    "    region = get_region_list()[4]\n",
    "\n",
    "    region_species = get_species_list(region)\n",
    "\n",
    "    for species in region_species:\n",
    "\n",
    "        \n",
    "\n",
    "        training_results_val = read_training_results(run_type, log_top_level_dir, region, species, \"val\")\n",
    "        training_results_test = read_training_results(run_type, log_top_level_dir, region, species, \"test\")\n",
    "\n",
    "        if not np.isnan(training_results_val).any() and not np.isnan(training_results_test).any():\n",
    "            # correlation not defined for constant array\n",
    "            # if is_array_not_constant(training_results_val) and is_array_not_constant(training_results_test):\n",
    "            region_correlation_scores.append(pearsonr(training_results_val, training_results_test).statistic)\n",
    "\n",
    "    regions_mean_correlation_scores.append(np.nanmean(region_correlation_scores).round(3))\n",
    "\n",
    "# add the mean of all regions\n",
    "regions_mean_correlation_scores.append(np.mean(regions_mean_correlation_scores).round(3))\n",
    "\n",
    "print(list_to_latex_table_row_format(regions_mean_correlation_scores))\n",
    "\n"
   ]
  },
  {
   "cell_type": "markdown",
   "metadata": {},
   "source": [
    "# Visualization of the evolution of maml's performance on some species based on the number of its samples we let it use"
   ]
  },
  {
   "cell_type": "code",
   "execution_count": 49,
   "metadata": {},
   "outputs": [
    {
     "data": {
      "image/png": "[encoded data removed]",
      "text/plain": [
       "<Figure size 640x480 with 1 Axes>"
      ]
     },
     "metadata": {},
     "output_type": "display_data"
    }
   ],
   "source": [
    "regions = get_region_list()\n",
    "run_type = RunType.MAML\n",
    "\n",
    "species = [\"awt06\", \"can02\", \"nsw09\", \"nz05\", \"sa26\", \"swi06\"]\n",
    "num_samples = [\"10\", \"50\", \"100\", \"200\"]\n",
    "\n",
    "performance_10_samples = []\n",
    "performance_50_samples = []\n",
    "performance_100_samples = []\n",
    "performance_200_samples = []\n",
    "\n",
    "logs_dir_10_samples = []\n",
    "logs_dir_50_samples = []\n",
    "logs_dir_100_samples = []\n",
    "logs_dir_200_samples = []\n",
    "\n",
    "awt_log_dir = []\n",
    "can_log_dir = []\n",
    "nsw_log_dir = []\n",
    "nz_log_dir = []\n",
    "sa_log_dir = []\n",
    "swi_log_dir = []\n",
    "\n",
    "for i in range(len(num_samples)):\n",
    "    awt_log_dir.append(os.path.join(log_root_dir, f\"logs_maml_evolution_{num_samples[i]}_samples\", species[0]))\n",
    "    can_log_dir.append(os.path.join(log_root_dir, f\"logs_maml_evolution_{num_samples[i]}_samples\", species[1]))\n",
    "    nsw_log_dir.append(os.path.join(log_root_dir, f\"logs_maml_evolution_{num_samples[i]}_samples\", species[2]))\n",
    "    nz_log_dir.append(os.path.join(log_root_dir, f\"logs_maml_evolution_{num_samples[i]}_samples\", species[3]))\n",
    "    sa_log_dir.append(os.path.join(log_root_dir, f\"logs_maml_evolution_{num_samples[i]}_samples\", species[4]))\n",
    "    swi_log_dir.append(os.path.join(log_root_dir, f\"logs_maml_evolution_{num_samples[i]}_samples\", species[5]))\n",
    "    \n",
    "awt_results = []\n",
    "can_results = []\n",
    "nsw_results = []\n",
    "nz_results = []\n",
    "sa_results = []\n",
    "swi_results = []\n",
    "\n",
    "for i in range(len(num_samples)):\n",
    "    awt_results.append(read_log_run(run_type, regions[0], awt_log_dir[i])['auc_roc'][0])\n",
    "    can_results.append(read_log_run(run_type, regions[1], can_log_dir[i])['auc_roc'][0])\n",
    "    nsw_results.append(read_log_run(run_type, regions[2], nsw_log_dir[i])['auc_roc'][0])\n",
    "    nz_results.append(read_log_run(run_type, regions[3], nz_log_dir[i])['auc_roc'][0])\n",
    "    sa_results.append(read_log_run(run_type, regions[4], sa_log_dir[i])['auc_roc'][0])\n",
    "    swi_results.append(read_log_run(run_type, regions[5], swi_log_dir[i])['auc_roc'][0])\n",
    "\n",
    "all_results = [awt_results, can_results, nsw_results, nz_results, sa_results, swi_results]\n",
    "all_colors = [\"green\", \"red\", \"blue\", \"black\", \"orange\", \"purple\"]\n",
    "\n",
    "for i in range(len(all_results)):\n",
    "    plt.scatter(range(len(num_samples)), all_results[i], color=all_colors[i], label=species[i], marker='o')\n",
    "\n",
    "plt.xlabel('Species Samples Counts ')\n",
    "plt.xticks(range(len(num_samples)), num_samples)\n",
    "\n",
    "plt.ylabel('AUC ROC')\n",
    "\n",
    "plt.legend()\n",
    "\n",
    "plt.show()"
   ]
  },
  {
   "cell_type": "markdown",
   "metadata": {},
   "source": [
    "## Get average number of epochs necessary for different methods"
   ]
  },
  {
   "cell_type": "code",
   "execution_count": 78,
   "metadata": {},
   "outputs": [
    {
     "name": "stdout",
     "output_type": "stream",
     "text": [
      " & 3.475 & 4.35 & 8.056 & 7.442 & 6.2 & 8.633\n",
      " & 2.646 & 2.242 & 7.529 & 6.809 & 7.087 & 6.725\n"
     ]
    }
   ],
   "source": [
    "\n",
    "run_type = RunType.SINGLE_SPECIES_MLP    \n",
    "log_top_level_dir = os.path.join(\"training_val_and_test_results\", \"logs\", \"logs_optuna_params_test_val\")\n",
    "\n",
    "region_list = get_region_list()\n",
    "\n",
    "early_stop_patience = 3\n",
    "extra_epochs_after_best_params = early_stop_patience + 1\n",
    "\n",
    "total_epochs = 0\n",
    "total_species = 0\n",
    "\n",
    "all_regions_std_epochs = []\n",
    "all_regions_mean_epochs = []\n",
    "\n",
    "for region in region_list:\n",
    "\n",
    "    region_species = get_species_list(region)\n",
    "    region_epochs = []\n",
    "\n",
    "    for species in region_species:\n",
    "    \n",
    "        training_results_test = read_training_results(run_type, log_top_level_dir, region, species, \"test\")\n",
    "        epochs_till_best_params = len(training_results_test) - extra_epochs_after_best_params\n",
    "        total_epochs += epochs_till_best_params\n",
    "        total_species += 1\n",
    "\n",
    "        region_epochs.append(epochs_till_best_params)\n",
    "\n",
    "    all_regions_std_epochs.append(np.std(region_epochs))\n",
    "    all_regions_mean_epochs.append(np.mean(region_epochs))\n",
    "\n",
    "print(list_to_latex_table_row_format(np.round(all_regions_mean_epochs, 3)))\n",
    "print(list_to_latex_table_row_format(np.round(all_regions_std_epochs, 3)))\n"
   ]
  },
  {
   "cell_type": "code",
   "execution_count": 108,
   "metadata": {},
   "outputs": [
    {
     "name": "stdout",
     "output_type": "stream",
     "text": [
      "6.81858407079646\n",
      " & 2.646 & 2.242 & 8.445 & 7.257 & 8.216 & 7.449\n",
      "[[2, 25, 8, 30, 2, 10, 3, 16, 1], [9, 2, 1, 3, 2, 8, 1, 1, 2, 6, 3, 16, 2, 2, 10, 1, 30, 1, 30, 7, 1, 10, 4, 2, 10, 2, 30, 1, 7, 3, 1, 1, 2, 2, 6, 1, 2, 1, 1, 6, 17, 1, 17, 13, 10, 16, 14, 30, 8, 1, 30, 9, 3], [1, 10, 1, 1, 1, 3, 1, 7, 6, 1, 4, 9, 3, 2, 13, 2, 10, 3, 1, 9, 12, 13, 1, 21, 9, 10, 7, 25, 6, 5, 4, 6, 2, 1, 3, 6, 30, 2, 1, 1, 5, 3, 1, 1], [6, 3, 8, 5, 3, 10, 2, 2, 2, 1, 3, 3, 4, 8, 1, 4, 1, 4, 1, 5, 2, 9, 7, 7, 4, 11, 2, 13, 4, 4, 30, 8, 3, 7, 7, 17, 5, 2, 1, 1, 6, 7, 12, 2, 4, 13, 4, 6, 3, 3, 30, 10, 2, 9, 2, 8, 1, 30, 2, 4, 1, 7, 9, 4, 1, 1, 5, 6, 8, 8, 5, 8, 10], [1, 3, 4, 5, 4, 5, 7, 2, 5, 4, 5, 3, 4, 2, 1, 6, 3, 9, 8, 1, 2, 5, 2, 7, 8, 8, 3, 4, 15, 30, 30, 2, 8, 6, 7, 1, 15, 9, 16, 18, 5, 13, 10, 3, 16, 2, 4]]\n",
      "[[2, 25, 8, 30, 2, 10, 3, 16, 1], [9, 2, 1, 3, 2, 8, 1, 1, 2, 6, 3, 16, 2, 2, 10, 1, 30, 1, 30, 7, 1, 10, 4, 2, 10, 2, 30, 1, 7, 3, 1, 1, 2, 2, 6, 1, 2, 1, 1, 6, 17, 1, 17, 13, 10, 16, 14, 30, 8, 1, 30, 9, 3], [1, 10, 1, 1, 1, 3, 1, 7, 6, 1, 4, 9, 3, 2, 13, 2, 10, 3, 1, 9, 12, 13, 1, 21, 9, 10, 7, 25, 6, 5, 4, 6, 2, 1, 3, 6, 30, 2, 1, 1, 5, 3, 1, 1], [6, 3, 8, 5, 3, 10, 2, 2, 2, 1, 3, 3, 4, 8, 1, 4, 1, 4, 1, 5, 2, 9, 7, 7, 4, 11, 2, 13, 4, 4, 30, 8, 3, 7, 7, 17, 5, 2, 1, 1, 6, 7, 12, 2, 4, 13, 4, 6, 3, 3, 30, 10, 2, 9, 2, 8, 1, 30, 2, 4, 1, 7, 9, 4, 1, 1, 5, 6, 8, 8, 5, 8, 10], [1, 3, 4, 5, 4, 5, 7, 2, 5, 4, 5, 3, 4, 2, 1, 6, 3, 9, 8, 1, 2, 5, 2, 7, 8, 8, 3, 4, 15, 30, 30, 2, 8, 6, 7, 1, 15, 9, 16, 18, 5, 13, 10, 3, 16, 2, 4]]\n",
      "[[2, 25, 8, 30, 2, 10, 3, 16, 1], [9, 2, 1, 3, 2, 8, 1, 1, 2, 6, 3, 16, 2, 2, 10, 1, 30, 1, 30, 7, 1, 10, 4, 2, 10, 2, 30, 1, 7, 3, 1, 1, 2, 2, 6, 1, 2, 1, 1, 6, 17, 1, 17, 13, 10, 16, 14, 30, 8, 1, 30, 9, 3], [1, 10, 1, 1, 1, 3, 1, 7, 6, 1, 4, 9, 3, 2, 13, 2, 10, 3, 1, 9, 12, 13, 1, 21, 9, 10, 7, 25, 6, 5, 4, 6, 2, 1, 3, 6, 30, 2, 1, 1, 5, 3, 1, 1], [6, 3, 8, 5, 3, 10, 2, 2, 2, 1, 3, 3, 4, 8, 1, 4, 1, 4, 1, 5, 2, 9, 7, 7, 4, 11, 2, 13, 4, 4, 30, 8, 3, 7, 7, 17, 5, 2, 1, 1, 6, 7, 12, 2, 4, 13, 4, 6, 3, 3, 30, 10, 2, 9, 2, 8, 1, 30, 2, 4, 1, 7, 9, 4, 1, 1, 5, 6, 8, 8, 5, 8, 10], [1, 3, 4, 5, 4, 5, 7, 2, 5, 4, 5, 3, 4, 2, 1, 6, 3, 9, 8, 1, 2, 5, 2, 7, 8, 8, 3, 4, 15, 30, 30, 2, 8, 6, 7, 1, 15, 9, 16, 18, 5, 13, 10, 3, 16, 2, 4]]\n",
      "[[2, 25, 8, 30, 2, 10, 3, 16, 1], [9, 2, 1, 3, 2, 8, 1, 1, 2, 6, 3, 16, 2, 2, 10, 1, 30, 1, 30, 7, 1, 10, 4, 2, 10, 2, 30, 1, 7, 3, 1, 1, 2, 2, 6, 1, 2, 1, 1, 6, 17, 1, 17, 13, 10, 16, 14, 30, 8, 1, 30, 9, 3], [1, 10, 1, 1, 1, 3, 1, 7, 6, 1, 4, 9, 3, 2, 13, 2, 10, 3, 1, 9, 12, 13, 1, 21, 9, 10, 7, 25, 6, 5, 4, 6, 2, 1, 3, 6, 30, 2, 1, 1, 5, 3, 1, 1], [6, 3, 8, 5, 3, 10, 2, 2, 2, 1, 3, 3, 4, 8, 1, 4, 1, 4, 1, 5, 2, 9, 7, 7, 4, 11, 2, 13, 4, 4, 30, 8, 3, 7, 7, 17, 5, 2, 1, 1, 6, 7, 12, 2, 4, 13, 4, 6, 3, 3, 30, 10, 2, 9, 2, 8, 1, 30, 2, 4, 1, 7, 9, 4, 1, 1, 5, 6, 8, 8, 5, 8, 10], [1, 3, 4, 5, 4, 5, 7, 2, 5, 4, 5, 3, 4, 2, 1, 6, 3, 9, 8, 1, 2, 5, 2, 7, 8, 8, 3, 4, 15, 30, 30, 2, 8, 6, 7, 1, 15, 9, 16, 18, 5, 13, 10, 3, 16, 2, 4]]\n",
      "[[2, 25, 8, 30, 2, 10, 3, 16, 1], [9, 2, 1, 3, 2, 8, 1, 1, 2, 6, 3, 16, 2, 2, 10, 1, 30, 1, 30, 7, 1, 10, 4, 2, 10, 2, 30, 1, 7, 3, 1, 1, 2, 2, 6, 1, 2, 1, 1, 6, 17, 1, 17, 13, 10, 16, 14, 30, 8, 1, 30, 9, 3], [1, 10, 1, 1, 1, 3, 1, 7, 6, 1, 4, 9, 3, 2, 13, 2, 10, 3, 1, 9, 12, 13, 1, 21, 9, 10, 7, 25, 6, 5, 4, 6, 2, 1, 3, 6, 30, 2, 1, 1, 5, 3, 1, 1], [6, 3, 8, 5, 3, 10, 2, 2, 2, 1, 3, 3, 4, 8, 1, 4, 1, 4, 1, 5, 2, 9, 7, 7, 4, 11, 2, 13, 4, 4, 30, 8, 3, 7, 7, 17, 5, 2, 1, 1, 6, 7, 12, 2, 4, 13, 4, 6, 3, 3, 30, 10, 2, 9, 2, 8, 1, 30, 2, 4, 1, 7, 9, 4, 1, 1, 5, 6, 8, 8, 5, 8, 10], [1, 3, 4, 5, 4, 5, 7, 2, 5, 4, 5, 3, 4, 2, 1, 6, 3, 9, 8, 1, 2, 5, 2, 7, 8, 8, 3, 4, 15, 30, 30, 2, 8, 6, 7, 1, 15, 9, 16, 18, 5, 13, 10, 3, 16, 2, 4]]\n",
      "[[2, 25, 8, 30, 2, 10, 3, 16, 1], [9, 2, 1, 3, 2, 8, 1, 1, 2, 6, 3, 16, 2, 2, 10, 1, 30, 1, 30, 7, 1, 10, 4, 2, 10, 2, 30, 1, 7, 3, 1, 1, 2, 2, 6, 1, 2, 1, 1, 6, 17, 1, 17, 13, 10, 16, 14, 30, 8, 1, 30, 9, 3], [1, 10, 1, 1, 1, 3, 1, 7, 6, 1, 4, 9, 3, 2, 13, 2, 10, 3, 1, 9, 12, 13, 1, 21, 9, 10, 7, 25, 6, 5, 4, 6, 2, 1, 3, 6, 30, 2, 1, 1, 5, 3, 1, 1], [6, 3, 8, 5, 3, 10, 2, 2, 2, 1, 3, 3, 4, 8, 1, 4, 1, 4, 1, 5, 2, 9, 7, 7, 4, 11, 2, 13, 4, 4, 30, 8, 3, 7, 7, 17, 5, 2, 1, 1, 6, 7, 12, 2, 4, 13, 4, 6, 3, 3, 30, 10, 2, 9, 2, 8, 1, 30, 2, 4, 1, 7, 9, 4, 1, 1, 5, 6, 8, 8, 5, 8, 10], [1, 3, 4, 5, 4, 5, 7, 2, 5, 4, 5, 3, 4, 2, 1, 6, 3, 9, 8, 1, 2, 5, 2, 7, 8, 8, 3, 4, 15, 30, 30, 2, 8, 6, 7, 1, 15, 9, 16, 18, 5, 13, 10, 3, 16, 2, 4]]\n"
     ]
    }
   ],
   "source": [
    "run_type = RunType.SINGLE_SPECIES_MLP    \n",
    "log_top_level_dir = os.path.join(\"training_val_and_test_results\", \"logs\", \"logs_optuna_params_test_val\")\n",
    "\n",
    "region_list = get_region_list()\n",
    "\n",
    "early_stop_patience = 3\n",
    "extra_epochs_after_best_params = early_stop_patience + 1\n",
    "max_epochs_allowed = 30\n",
    "\n",
    "total_epochs = 0\n",
    "total_species = 0\n",
    "\n",
    "all_regions_std = []\n",
    "all_regions_intervals_epochs = []\n",
    "\n",
    "intervals = [(2, 10), (10, 30), (30, 50), (50, 200), (200, 6000)]\n",
    "\n",
    "interval_0 = []\n",
    "interval_1 = []\n",
    "interval_2 = []\n",
    "interval_3 = []\n",
    "interval_4 = []\n",
    "all_intervals = []\n",
    "all_intervals.append(interval_0)\n",
    "all_intervals.append(interval_1)\n",
    "all_intervals.append(interval_2)\n",
    "all_intervals.append(interval_3)\n",
    "all_intervals.append(interval_4)\n",
    "\n",
    "for region in region_list:\n",
    "\n",
    "    region_species_samples_count = get_dict_from_species_name_to_nb_of_samples(region)\n",
    "\n",
    "    region_species = get_species_list(region)\n",
    "    region_epochs = []\n",
    "\n",
    "    \n",
    "    \n",
    "    for species in region_species:\n",
    "    \n",
    "        training_results_test = read_training_results(run_type, log_top_level_dir, region, species, \"test\")\n",
    "        epochs_till_best_params = len(training_results_test)\n",
    "        if epochs_till_best_params != max_epochs_allowed:\n",
    "            epochs_till_best_params -= extra_epochs_after_best_params\n",
    "        total_epochs += epochs_till_best_params\n",
    "        total_species += 1\n",
    "\n",
    "        region_epochs.append(epochs_till_best_params)\n",
    "\n",
    "        species_samples_count = region_species_samples_count[species]\n",
    "        for i, interval in enumerate(intervals):\n",
    "            lower_bound, upper_bound = interval\n",
    "            if species_samples_count >= lower_bound and species_samples_count < upper_bound:\n",
    "                all_intervals[i].append(epochs_till_best_params)\n",
    "    \n",
    "    all_regions_std.append(np.std(region_epochs))\n",
    "    all_regions_intervals_epochs.append(all_intervals)\n",
    "\n",
    "print(total_epochs / total_species)\n",
    "print(list_to_latex_table_row_format(np.round(all_regions_std, 3)))\n",
    "print(all_regions_intervals_epochs[0])\n",
    "print(all_regions_intervals_epochs[1])\n",
    "print(all_regions_intervals_epochs[2])\n",
    "print(all_regions_intervals_epochs[3])\n",
    "print(all_regions_intervals_epochs[4])\n",
    "\n",
    "\n",
    "\n",
    "\n"
   ]
  },
  {
   "cell_type": "code",
   "execution_count": 107,
   "metadata": {},
   "outputs": [
    {
     "data": {
      "image/png": "[encoded data removed]",
      "text/plain": [
       "<Figure size 640x480 with 1 Axes>"
      ]
     },
     "metadata": {},
     "output_type": "display_data"
    }
   ],
   "source": [
    "# Creating a boxplot\n",
    "plt.boxplot(all_intervals, labels=[interval for interval in [\"[1, 10]\", \"[11, 30]\", \"[31, 50]\", \"[51, 200]\", \"[201, 6000]\"]])\n",
    "\n",
    "# Boxplot of the number of epochs needed to reach local optimum for each region with the single-species method, PA validation\n",
    "\n",
    "# Adding title and labels\n",
    "plt.xlabel('Species Samples Counts Intervals')\n",
    "plt.ylabel('Epochs')\n",
    "\n",
    "# Display the plot\n",
    "plt.show()\n"
   ]
  }
 ],
 "metadata": {
  "kernelspec": {
   "display_name": "base",
   "language": "python",
   "name": "python3"
  },
  "language_info": {
   "codemirror_mode": {
    "name": "ipython",
    "version": 3
   },
   "file_extension": ".py",
   "mimetype": "text/x-python",
   "name": "python",
   "nbconvert_exporter": "python",
   "pygments_lexer": "ipython3",
   "version": "3.11.4"
  }
 },
 "nbformat": 4,
 "nbformat_minor": 2
}
